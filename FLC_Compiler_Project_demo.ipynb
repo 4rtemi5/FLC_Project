{
  "nbformat": 4,
  "nbformat_minor": 0,
  "metadata": {
    "colab": {
      "name": "FLC Compiler Project",
      "provenance": [],
      "collapsed_sections": []
    },
    "kernelspec": {
      "name": "python3",
      "display_name": "Python 3"
    }
  },
  "cells": [
    {
      "cell_type": "markdown",
      "metadata": {
        "id": "h6lW48EOvoL0"
      },
      "source": [
        "IMPLEMENTED:\n",
        "\n",
        "*   printing numbers\n",
        "*   unary - operator / negative numbers\n",
        "*   binary operators (+, -, *, /)\n",
        "*   comaparators (>, >=, ==, !=, =<, <)\n",
        "*   parentheses\n",
        "*   variables\n",
        "*   if-else\n",
        "*   while\n",
        "*   type inference\n",
        "*   dynamic typing for ints and floats ?\n"
      ]
    },
    {
      "cell_type": "code",
      "metadata": {
        "id": "VBBAA9hDjI8y",
        "colab": {
          "base_uri": "https://localhost:8080/",
          "height": 153
        },
        "outputId": "b8575dea-33ac-41fc-ff89-43eec3e10d57"
      },
      "source": [
        "#install conda\n",
        "!echo \"Installing necessary stuff...\"\n",
        "!rm out.log > output.log 2> output.log || : \n",
        "!wget -c https://repo.anaconda.com/miniconda/Miniconda3-latest-Linux-x86_64.sh > out.log 2> output.log\n",
        "!chmod +x Miniconda3-latest-Linux-x86_64.sh > out.log\n",
        "!bash ./Miniconda3-latest-Linux-x86_64.sh -b -f -p /usr/local > out.log\n",
        "!conda install -y -q -S --prefix /usr/local -c Miniconda > out.log 2> out.log\n",
        "\n",
        "import sys\n",
        "sys.path.append('/usr/local/lib/python3.6/site-packages/')\n",
        "\n",
        "#install conda packages\n",
        "!conda install -y -q -S --channel=numba llvmlite\n",
        "!conda install -y -q -S -c conda-forge rply\n",
        "!echo \"Done\""
      ],
      "execution_count": null,
      "outputs": [
        {
          "output_type": "stream",
          "text": [
            "Installing necessary stuff...\n",
            "\n",
            "# All requested packages already installed.\n",
            "\n",
            "\n",
            "# All requested packages already installed.\n",
            "\n",
            "Done\n"
          ],
          "name": "stdout"
        }
      ]
    },
    {
      "cell_type": "code",
      "metadata": {
        "id": "u5ILI8gxjFEg",
        "colab": {
          "base_uri": "https://localhost:8080/",
          "height": 119
        },
        "outputId": "bbb24697-d964-4705-bed9-e26a8fb79676"
      },
      "source": [
        "# clone python code locally\n",
        "import os\n",
        "import shutil\n",
        "if os.path.exists(\"./a.out\"):\n",
        "    os.remove(\"./a.out\")\n",
        "if os.path.exists(\"./FLC_Project\"):\n",
        "    shutil.rmtree('./FLC_Project')\n",
        "!git clone https://github.com/4rtemi5/FLC_Project.git"
      ],
      "execution_count": null,
      "outputs": [
        {
          "output_type": "stream",
          "text": [
            "Cloning into 'FLC_Project'...\n",
            "remote: Enumerating objects: 16, done.\u001b[K\n",
            "remote: Counting objects:   6% (1/16)   \u001b[K\rremote: Counting objects:  12% (2/16)   \u001b[K\rremote: Counting objects:  18% (3/16)   \u001b[K\rremote: Counting objects:  25% (4/16)   \u001b[K\rremote: Counting objects:  31% (5/16)   \u001b[K\rremote: Counting objects:  37% (6/16)   \u001b[K\rremote: Counting objects:  43% (7/16)   \u001b[K\rremote: Counting objects:  50% (8/16)   \u001b[K\rremote: Counting objects:  56% (9/16)   \u001b[K\rremote: Counting objects:  62% (10/16)   \u001b[K\rremote: Counting objects:  68% (11/16)   \u001b[K\rremote: Counting objects:  75% (12/16)   \u001b[K\rremote: Counting objects:  81% (13/16)   \u001b[K\rremote: Counting objects:  87% (14/16)   \u001b[K\rremote: Counting objects:  93% (15/16)   \u001b[K\rremote: Counting objects: 100% (16/16)   \u001b[K\rremote: Counting objects: 100% (16/16), done.\u001b[K\n",
            "remote: Compressing objects:   8% (1/12)   \u001b[K\rremote: Compressing objects:  16% (2/12)   \u001b[K\rremote: Compressing objects:  25% (3/12)   \u001b[K\rremote: Compressing objects:  33% (4/12)   \u001b[K\rremote: Compressing objects:  41% (5/12)   \u001b[K\rremote: Compressing objects:  50% (6/12)   \u001b[K\rremote: Compressing objects:  58% (7/12)   \u001b[K\rremote: Compressing objects:  66% (8/12)   \u001b[K\rremote: Compressing objects:  75% (9/12)   \u001b[K\rremote: Compressing objects:  83% (10/12)   \u001b[K\rremote: Compressing objects:  91% (11/12)   \u001b[K\rremote: Compressing objects: 100% (12/12)   \u001b[K\rremote: Compressing objects: 100% (12/12), done.\u001b[K\n",
            "remote: Total 16 (delta 4), reused 16 (delta 4), pack-reused 0\u001b[K\n",
            "Unpacking objects:   6% (1/16)   \rUnpacking objects:  12% (2/16)   \rUnpacking objects:  18% (3/16)   \rUnpacking objects:  25% (4/16)   \rUnpacking objects:  31% (5/16)   \rUnpacking objects:  37% (6/16)   \rUnpacking objects:  43% (7/16)   \rUnpacking objects:  50% (8/16)   \rUnpacking objects:  56% (9/16)   \rUnpacking objects:  62% (10/16)   \rUnpacking objects:  68% (11/16)   \rUnpacking objects:  75% (12/16)   \rUnpacking objects:  81% (13/16)   \rUnpacking objects:  87% (14/16)   \rUnpacking objects:  93% (15/16)   \rUnpacking objects: 100% (16/16)   \rUnpacking objects: 100% (16/16), done.\n"
          ],
          "name": "stdout"
        }
      ]
    },
    {
      "cell_type": "code",
      "metadata": {
        "id": "BdAo-EN7i7rV"
      },
      "source": [
        "# code definition to be compiled\n",
        "\n",
        "code = '''\n",
        "\n",
        "print(12.0 + 13 + 15)\n",
        "\n",
        "print(1 == 1.0)\n",
        "\n",
        "let my_var = 2\n",
        "\n",
        "print(- my_var --1+33)\n",
        "\n",
        "if (2>1) {\n",
        "    print(20)\n",
        "} else {\n",
        "    print(100)\n",
        "}\n",
        "\n",
        "let loopvar = 10\n",
        "\n",
        "while(loopvar > 0) {\n",
        "    print(loopvar)\n",
        "    let loopvar = loopvar - 1\n",
        "}\n",
        "\n",
        "print(loopvar)\n",
        "\n",
        "\n",
        "'''\n",
        "# write definition to file\n",
        "code_file = open(\"./FLC_Project/input.flc\", \"w\")\n",
        "code_file.write(code)\n",
        "code_file.close()"
      ],
      "execution_count": null,
      "outputs": []
    },
    {
      "cell_type": "code",
      "metadata": {
        "id": "xuXs4OgNmBhQ",
        "colab": {
          "base_uri": "https://localhost:8080/",
          "height": 68
        },
        "outputId": "32c92da4-4a6f-4968-b7bb-bb661b7b5835"
      },
      "source": [
        "# compile into intermediate representation\n",
        "!cd ./FLC_Project && python ./main.py"
      ],
      "execution_count": null,
      "outputs": [
        {
          "output_type": "stream",
          "text": [
            "\n",
            "Compiling \"input.flc\" zo IR...\n",
            "Done. LLVM IR written to \"output.ll\"\n"
          ],
          "name": "stdout"
        }
      ]
    },
    {
      "cell_type": "code",
      "metadata": {
        "id": "VErsrSQvnqWi",
        "colab": {
          "base_uri": "https://localhost:8080/",
          "height": 51
        },
        "outputId": "cbf68792-bff6-4f50-c9d2-388c2b4006ba"
      },
      "source": [
        "# compile final programm\n",
        "!clang ./FLC_Project/output.ll\n",
        "!gcc -fPIC -shared a.out -o output > out.log 2> out.log"
      ],
      "execution_count": null,
      "outputs": [
        {
          "output_type": "stream",
          "text": [
            "\u001b[0;1;35mwarning: \u001b[0moverriding the module target triple with x86_64-pc-linux-gnu [-Woverride-module]\u001b[0m\n",
            "1 warning generated.\n"
          ],
          "name": "stdout"
        }
      ]
    },
    {
      "cell_type": "code",
      "metadata": {
        "id": "-vANwbfxoiuY",
        "colab": {
          "base_uri": "https://localhost:8080/",
          "height": 272
        },
        "outputId": "6c31df28-db02-4b0e-da8d-79afbdc9d19b"
      },
      "source": [
        "# execute programm\n",
        "\n",
        "!./a.out"
      ],
      "execution_count": null,
      "outputs": [
        {
          "output_type": "stream",
          "text": [
            "40.000000 \n",
            "1 \n",
            "32 \n",
            "20 \n",
            "10 \n",
            "9 \n",
            "8 \n",
            "7 \n",
            "6 \n",
            "5 \n",
            "4 \n",
            "3 \n",
            "2 \n",
            "1 \n",
            "0 \n"
          ],
          "name": "stdout"
        }
      ]
    },
    {
      "cell_type": "code",
      "metadata": {
        "id": "tULgawdSp0il"
      },
      "source": [
        ""
      ],
      "execution_count": null,
      "outputs": []
    }
  ]
}